{
 "cells": [
  {
   "cell_type": "code",
   "execution_count": null,
   "id": "a5f04f55-191d-4e7b-badc-52bc3a0950a5",
   "metadata": {},
   "outputs": [],
   "source": []
  }
 ],
 "metadata": {
  "kernelspec": {
   "display_name": "",
   "name": ""
  },
  "language_info": {
   "name": ""
  }
 },
 "nbformat": 4,
 "nbformat_minor": 5
}
